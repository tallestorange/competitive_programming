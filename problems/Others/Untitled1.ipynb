{
 "cells": [
  {
   "cell_type": "code",
   "execution_count": 18,
   "metadata": {},
   "outputs": [],
   "source": [
    "from collections import Counter as c\n",
    "\n",
    "S1 = \"AABCCD\"\n",
    "S2 = \"ABEDDA\"\n",
    "S3 = \"EDDAAA\"\n",
    "\n",
    "c1, c2, c3 = c(S1), c(S2), c(S3)\n",
    "\n",
    "N = len(S1)//2\n",
    "dp = [[False]*(N+1) for _ in range(26)]\n",
    "for i in range(26):\n",
    "    s = chr(65+i)\n",
    "    d1, d2, d3 = c1[s], c2[s], c3[s]\n",
    "    for j in range(N+1):\n",
    "        if j<=d1 and 0<=d3-j<=d2:\n",
    "            dp[i][j] = True"
   ]
  },
  {
   "cell_type": "code",
   "execution_count": null,
   "metadata": {},
   "outputs": [],
   "source": []
  }
 ],
 "metadata": {
  "kernelspec": {
   "display_name": "Python 3",
   "language": "python",
   "name": "python3"
  },
  "language_info": {
   "codemirror_mode": {
    "name": "ipython",
    "version": 3
   },
   "file_extension": ".py",
   "mimetype": "text/x-python",
   "name": "python",
   "nbconvert_exporter": "python",
   "pygments_lexer": "ipython3",
   "version": "3.7.0"
  }
 },
 "nbformat": 4,
 "nbformat_minor": 2
}
