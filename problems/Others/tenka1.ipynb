{
 "cells": [
  {
   "cell_type": "code",
   "execution_count": 58,
   "metadata": {},
   "outputs": [
    {
     "name": "stdout",
     "output_type": "stream",
     "text": [
      "set\n"
     ]
    }
   ],
   "source": [
    "s = input()\n",
    "size = len(s)\n",
    "q = []\n",
    "\n",
    "if s == \"{}\":\n",
    "    print(\"dict\")\n",
    "else:\n",
    "    pos = 1\n",
    "    while pos < size-1:\n",
    "        if s[pos] == \"{\":\n",
    "            q.append(\"{\")\n",
    "        elif s[pos] == \"}\":\n",
    "            if q[-1] == \"}\":\n",
    "                q.append(\"}\")\n",
    "            else:\n",
    "                q.pop()\n",
    "        pos += 1\n",
    "        if not q:\n",
    "            break\n",
    "    \n",
    "    while pos < size-1:\n",
    "        v = ord(s[pos])-48\n",
    "        if 0<=v<=9:\n",
    "            pos += 1\n",
    "        else:\n",
    "            break\n",
    "\n",
    "    print(\"dict\" if s[pos]==\":\" else \"set\")"
   ]
  },
  {
   "cell_type": "code",
   "execution_count": 42,
   "metadata": {},
   "outputs": [],
   "source": [
    "# DICT = \"{\" , EXPR , \":\" , EXPR , { \",\" , EXPR , \":\" , EXPR } , \"}\" | \"{}\" ;\n",
    "# SET  = \"{\" , EXPR , { \",\" , EXPR } , \"}\" ;\n",
    "# EXPR = DICT | SET | INTEGER ;"
   ]
  },
  {
   "cell_type": "code",
   "execution_count": 61,
   "metadata": {},
   "outputs": [
    {
     "data": {
      "text/plain": [
       "-4"
      ]
     },
     "execution_count": 61,
     "metadata": {},
     "output_type": "execute_result"
    }
   ],
   "source": []
  },
  {
   "cell_type": "code",
   "execution_count": null,
   "metadata": {},
   "outputs": [],
   "source": []
  }
 ],
 "metadata": {
  "kernelspec": {
   "display_name": "Python 3",
   "language": "python",
   "name": "python3"
  },
  "language_info": {
   "codemirror_mode": {
    "name": "ipython",
    "version": 3
   },
   "file_extension": ".py",
   "mimetype": "text/x-python",
   "name": "python",
   "nbconvert_exporter": "python",
   "pygments_lexer": "ipython3",
   "version": "3.7.0"
  }
 },
 "nbformat": 4,
 "nbformat_minor": 2
}
